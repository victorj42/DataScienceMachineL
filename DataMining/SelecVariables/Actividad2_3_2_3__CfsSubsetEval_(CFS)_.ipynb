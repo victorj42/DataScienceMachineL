{
  "nbformat": 4,
  "nbformat_minor": 0,
  "metadata": {
    "colab": {
      "provenance": []
    },
    "kernelspec": {
      "name": "python3",
      "display_name": "Python 3"
    },
    "language_info": {
      "name": "python"
    }
  },
  "cells": [
    {
      "cell_type": "code",
      "execution_count": null,
      "metadata": {
        "colab": {
          "base_uri": "https://localhost:8080/"
        },
        "id": "nNEB2_2lAdf4",
        "outputId": "20688dd0-5aad-4c75-b3a0-72701a87f0ee"
      },
      "outputs": [
        {
          "output_type": "stream",
          "name": "stdout",
          "text": [
            "Mejor subconjunto de características:\n",
            "x3\n",
            "x4\n"
          ]
        }
      ],
      "source": [
        "import pandas as pd\n",
        "import numpy as np\n",
        "from itertools import combinations\n",
        "\n",
        "def relevancia(feature, target):\n",
        "    return np.abs(np.corrcoef(feature, target)[0, 1])\n",
        "\n",
        "def redundancia(feature1, feature2):\n",
        "    return np.abs(np.corrcoef(feature1, feature2)[0, 1])\n",
        "\n",
        "def calcular_merito(puntRelevancia, puntRedundancia, k):\n",
        "    merito = np.sum(puntRelevancia) / np.sqrt(k + np.sum(puntRedundancia))\n",
        "    return merito\n",
        "\n",
        "def seleccionar_mejor_subconjunto(datos):\n",
        "    n, m = datos.shape\n",
        "    puntRelevancia = []\n",
        "\n",
        "    objetivo_c = datos.iloc[:, -1]\n",
        "    for i in range(m - 1):\n",
        "        caracteristicas_f = datos.iloc[:, i]\n",
        "        rel = relevancia(caracteristicas_f, objetivo_c)\n",
        "        puntRelevancia.append(rel)\n",
        "\n",
        "    puntRedundancia = np.zeros((m - 1, m - 1))\n",
        "\n",
        "    for i in range(m - 1):\n",
        "        for j in range(i + 1, m - 1):\n",
        "            f1 = datos.iloc[:, i]\n",
        "            f2 = datos.iloc[:, j]\n",
        "            red = redundancia(f1, f2)\n",
        "            puntRedundancia[i, j] = red\n",
        "            puntRedundancia[j, i] = red\n",
        "\n",
        "    mejor_merito = 0.0\n",
        "    mejor_subconjunto = None\n",
        "\n",
        "    for k in range(1, m):\n",
        "        for subconjunto in combinations(range(m - 1), k):\n",
        "            subconjunto = list(subconjunto)\n",
        "            merito_actual = calcular_merito(np.array(puntRelevancia)[subconjunto], puntRedundancia[subconjunto, :][:, subconjunto], k)\n",
        "\n",
        "            if merito_actual > mejor_merito:\n",
        "                mejor_merito = merito_actual\n",
        "                mejor_subconjunto = subconjunto\n",
        "\n",
        "    return mejor_subconjunto\n",
        "\n",
        "datos = pd.read_csv(\"Datos.csv\")\n",
        "X = pd.DataFrame(datos.drop(columns=[\"y\"]))\n",
        "y = datos[\"y\"]\n",
        "\n",
        "y = y.astype('category')\n",
        "X['x1'] = X['x1'].astype('category')\n",
        "X['x2'] = X['x2'].astype('category')\n",
        "X['x3'] = X['x3'].astype('category')\n",
        "X['x4'] = X['x4'].astype('category')\n",
        "X['x5'] = X['x5'].astype('category')\n",
        "\n",
        "mejor_subconjunto = seleccionar_mejor_subconjunto(datos)\n",
        "nombres = list(X.columns.values)\n",
        "\n",
        "print(\"Mejor subconjunto de características:\")\n",
        "for i in mejor_subconjunto:\n",
        "    print(str(nombres[i]))"
      ]
    }
  ]
}