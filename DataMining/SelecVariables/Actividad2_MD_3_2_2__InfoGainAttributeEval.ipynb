{
  "nbformat": 4,
  "nbformat_minor": 0,
  "metadata": {
    "colab": {
      "provenance": []
    },
    "kernelspec": {
      "name": "python3",
      "display_name": "Python 3"
    },
    "language_info": {
      "name": "python"
    }
  },
  "cells": [
    {
      "cell_type": "code",
      "execution_count": null,
      "metadata": {
        "colab": {
          "base_uri": "https://localhost:8080/"
        },
        "id": "vuAtmWfJ6BTl",
        "outputId": "133bde16-1ec1-4f5f-e875-acb22dc71fef"
      },
      "outputs": [
        {
          "output_type": "stream",
          "name": "stdout",
          "text": [
            "Ganancias de la información por atributo: \n",
            "x3: 0.20476230454296074\n",
            "x4: 0.08661866337139501\n",
            "x2: 0.019227688202655135\n",
            "x1: 0.006166597330896882\n",
            "x5: 0.0029611813178176626\n"
          ]
        }
      ],
      "source": [
        "import math\n",
        "import pandas as pd\n",
        "import numpy as np\n",
        "\n",
        "def Entropia(X):\n",
        "    if len(X) == 0:\n",
        "        return 0.0\n",
        "\n",
        "    numClases = X.iloc[:, -1].value_counts()\n",
        "    entropia = 0.0\n",
        "    n = len(X)\n",
        "\n",
        "    for class_count in numClases:\n",
        "        p = class_count / n\n",
        "        entropia -= p * math.log2(p)\n",
        "\n",
        "    return entropia\n",
        "\n",
        "def InfoGainAttributeEval(D):\n",
        "    n = len(D)\n",
        "    m = D.shape[1] - 1  # Número de características\n",
        "    Ganancia = [0.0] * m\n",
        "\n",
        "    # Cálculo de la entropía total del conjunto de datos\n",
        "    entropia_D = Entropia(D)\n",
        "\n",
        "    for i in range(m):\n",
        "        caracteristicas = D.iloc[:, i].unique()\n",
        "\n",
        "        # Dividir el conjunto de datos en subconjuntos según la característica i\n",
        "        subconjuntos = {valor: D[D.iloc[:, i] == valor] for valor in caracteristicas}\n",
        "\n",
        "        # Cálculo de la ganancia de información\n",
        "        for valor, subconjunto in subconjuntos.items():\n",
        "            p_Xi = len(subconjunto) / n\n",
        "            entropia_Xi = Entropia(subconjunto)\n",
        "            Ganancia[i] += p_Xi * (entropia_D - entropia_Xi)\n",
        "\n",
        "    return Ganancia\n",
        "\n",
        "# Ejemplo de uso\n",
        "datos = pd.read_csv(\"Datos.csv\")\n",
        "X = pd.DataFrame(datos.drop(columns=[\"y\"]))\n",
        "y = datos[\"y\"]\n",
        "\n",
        "y = y.astype('category')\n",
        "X['x1'] = X['x1'].astype('category')\n",
        "X['x2'] = X['x2'].astype('category')\n",
        "X['x3'] = X['x3'].astype('category')\n",
        "X['x4'] = X['x4'].astype('category')\n",
        "X['x5'] = X['x5'].astype('category')\n",
        "\n",
        "ganan_info = InfoGainAttributeEval(datos)\n",
        "print(\"Ganancias de la información por atributo: \")\n",
        "nombres = list(X.columns.values)\n",
        "orden=np.argsort(ganan_info)\n",
        "orden = orden[::-1]\n",
        "\n",
        "for i in orden:\n",
        "  print(str(nombres[i])+\": \"+str(ganan_info[i]))\n"
      ]
    }
  ]
}