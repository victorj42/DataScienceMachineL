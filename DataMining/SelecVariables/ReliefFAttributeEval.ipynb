{
  "nbformat": 4,
  "nbformat_minor": 0,
  "metadata": {
    "colab": {
      "provenance": []
    },
    "kernelspec": {
      "name": "python3",
      "display_name": "Python 3"
    },
    "language_info": {
      "name": "python"
    }
  },
  "cells": [
    {
      "cell_type": "code",
      "execution_count": null,
      "metadata": {
        "colab": {
          "base_uri": "https://localhost:8080/"
        },
        "id": "ROT_goMgrR7n",
        "outputId": "c3ee746f-bf23-4070-ea5f-e0576f1b6d7b"
      },
      "outputs": [
        {
          "output_type": "stream",
          "name": "stdout",
          "text": [
            "\n",
            "Características seleccionadas:\n",
            "x1\n",
            "x4\n",
            "x3\n",
            "x2\n",
            "x5\n"
          ]
        }
      ],
      "source": [
        "#!pip install ReliefF\n",
        "from ReliefF import ReliefF\n",
        "import numpy as np\n",
        "from sklearn import datasets\n",
        "import pandas as pd\n",
        "\n",
        "# Carga los datos desde el archivo CSV\n",
        "datos = pd.read_csv(\"Datos.csv\")\n",
        "X = datos.drop(columns=[\"y\"]).to_numpy()\n",
        "y = datos[\"y\"].to_numpy()\n",
        "\n",
        "modeloRF = ReliefF(n_neighbors=2, n_features_to_keep=2)\n",
        "X_entrenamiento = modeloRF.fit_transform(X, y)\n",
        "\n",
        "indicesCaracteriticas = modeloRF.top_features\n",
        "nombresCaracteristicas = datos.columns[indicesCaracteriticas]\n",
        "\n",
        "print(\"\\nCaracterísticas seleccionadas:\")\n",
        "for i in nombresCaracteristicas:\n",
        "  print(i)\n",
        "\n",
        "\n"
      ]
    }
  ]
}
